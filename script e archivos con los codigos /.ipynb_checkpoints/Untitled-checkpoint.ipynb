{
 "cells": [
  {
   "cell_type": "code",
   "execution_count": 1,
   "id": "f5cf0c19",
   "metadata": {},
   "outputs": [],
   "source": [
    "import pandas as pd\n",
    "import numpy as np"
   ]
  },
  {
   "cell_type": "code",
   "execution_count": 3,
   "id": "b1f57dd8",
   "metadata": {},
   "outputs": [
    {
     "name": "stdout",
     "output_type": "stream",
     "text": [
      "['Sonia leal \\\\']\n"
     ]
    }
   ],
   "source": [
    "data = pd.read_csv('nombres.txt')\n",
    "\n",
    "#lo convertimos array de numpy\n",
    "Data = data.to_numpy()\n",
    "\n",
    "#declaramos una lista\n",
    "valores = []#poseen nombres\n",
    "\n",
    "#con esto ya tenemos el array\n",
    "for row in data:\n",
    "    valores.append(row)\n",
    "\n",
    "print(valores)\n",
    "\n",
    "\n",
    "  "
   ]
  },
  {
   "cell_type": "code",
   "execution_count": 16,
   "id": "3b3680a3",
   "metadata": {},
   "outputs": [
    {
     "name": "stdout",
     "output_type": "stream",
     "text": [
      "la cantidad de valores Ds es 0\n",
      "la cantidad de valores de los octetos 268\n"
     ]
    }
   ],
   "source": [
    "#ya aqui tenemos la lista\n",
    "#print(valores[0])\n",
    "#ahora ciclo para que imprima ciertas cosas\n",
    "z = len(valores)\n",
    "print(\"la cantidad de valores Ds es\",z)\n",
    "print(\"la cantidad de valores de los octetos\",y)\n",
    "y = len(octetos)\n",
    "for i in range(0,z):\n",
    "    print(\"parameter %s = 8'o%s;\"%(valores[i],octetos[i]))"
   ]
  },
  {
   "cell_type": "code",
   "execution_count": null,
   "id": "6ef911b5",
   "metadata": {},
   "outputs": [],
   "source": []
  },
  {
   "cell_type": "code",
   "execution_count": null,
   "id": "f48f6578",
   "metadata": {},
   "outputs": [],
   "source": []
  }
 ],
 "metadata": {
  "kernelspec": {
   "display_name": "Python 3",
   "language": "python",
   "name": "python3"
  },
  "language_info": {
   "codemirror_mode": {
    "name": "ipython",
    "version": 3
   },
   "file_extension": ".py",
   "mimetype": "text/x-python",
   "name": "python",
   "nbconvert_exporter": "python",
   "pygments_lexer": "ipython3",
   "version": "3.8.8"
  }
 },
 "nbformat": 4,
 "nbformat_minor": 5
}
