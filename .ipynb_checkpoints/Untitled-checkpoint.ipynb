{
 "cells": [
  {
   "cell_type": "code",
   "execution_count": 12,
   "id": "f5cf0c19",
   "metadata": {},
   "outputs": [],
   "source": [
    "import pandas as pd\n",
    "import numpy as np"
   ]
  },
  {
   "cell_type": "code",
   "execution_count": 31,
   "id": "b1f57dd8",
   "metadata": {},
   "outputs": [
    {
     "name": "stdout",
     "output_type": "stream",
     "text": [
      "120\n",
      "['100111', '0100', '011101', '0100.1', '101101', '0100.2', '110001', '1011', '110101', '0100.3', '101001', '1011.1', '011001', '1011.2', '111000', '1011.3', '111001', '0100.4', '100101', '1011.4', '010101', '1011.5', '110100', '1011.6', '001101', '1011.7', '101100', '1011.8', '011100', '1011.9', '010111', '0100.5', '011011', '0100.6', '100011', '1011.10', '010011', '1011.11', '110010', '1011.12', '001011', '1011.13', '101010', '1011.14', '011010', '1011.15', '111010', '0100.7', '110011', '0100.8', '100110', '1011.16', '010110', '1011.17', '110110', '0100.9', '001110', '1011.18', '101110', '0100.10', '011110', '0100.11', '101011', '0100.12', '100111.1', '1001', '011101.1', '1001.1', '101101.1', '1001.2', '110001.1', '1001.3', '110101.1', '1001.4', '101001.1', '1001.5', '011001.1', '1001.6', '111000.1', '1001.7', '111001.1', '1001.8', '100101.1', '1001.9', '010101.1', '1001.10', '110100.1', '1001.11', '001101.1', '1001.12', '101100.1', '1001.13', '011100.1', '1001.14', '010111.1', '1001.15', '011011.1', '1001.16', '100011.1', '1001.17', '010011.1', '1001.18', '110010.1', '1001.19', '001011.1', '1001.20', '101010.1', '1001.21', '011010.1', '1001.22', '111010.1', '1001.23', '110011.1', '1001.24', '100110.1', '1001.25', '010110.1', '1001.26', '110110.1', '1001.27']\n",
      "1001110100\n"
     ]
    }
   ],
   "source": [
    "data = pd.read_csv('Ds.csv')\n",
    "data2 = pd.read_csv(\"octec.txt\")\n",
    "data3 = pd.read_csv(\"10bitsneg.txt\")\n",
    "#lo convertimos array de numpy\n",
    "Data = data.to_numpy()\n",
    "Data2 = data2.to_numpy()\n",
    "Data3 = data3.to_numpy()\n",
    "#declaramos una lista\n",
    "valores = []#poseen nombres\n",
    "octetos = []#poseen octetos\n",
    "diezneg = []#poseen diez bits negados pero con espacios\n",
    "diezneg2 = []#poseera los diez bits juntos y buenos\n",
    "#con esto ya tenemos el array\n",
    "for row in data3:\n",
    "    diezneg.append(row)\n",
    "\n",
    "#cantidad de casillas que hay\n",
    "print(len(diezneg))\n",
    "#ocupamos separar los indices pares e impares en listas diferentes\n",
    "#print(diezneg)\n",
    "\n",
    "\n",
    "print('%s%s'%(diezneg[0],diezneg[1]))\n",
    "#for row in data:\n",
    "    #valores.append(row)\n",
    "\n",
    "#for row2 in data2:\n",
    "    #octetos.append(row2)\n",
    "\n",
    "\n",
    "  "
   ]
  },
  {
   "cell_type": "code",
   "execution_count": 16,
   "id": "3b3680a3",
   "metadata": {},
   "outputs": [
    {
     "name": "stdout",
     "output_type": "stream",
     "text": [
      "la cantidad de valores Ds es 0\n",
      "la cantidad de valores de los octetos 268\n"
     ]
    }
   ],
   "source": [
    "#ya aqui tenemos la lista\n",
    "#print(valores[0])\n",
    "#ahora ciclo para que imprima ciertas cosas\n",
    "z = len(valores)\n",
    "print(\"la cantidad de valores Ds es\",z)\n",
    "print(\"la cantidad de valores de los octetos\",y)\n",
    "y = len(octetos)\n",
    "for i in range(0,z):\n",
    "    print(\"parameter %s = 8'o%s;\"%(valores[i],octetos[i]))"
   ]
  },
  {
   "cell_type": "code",
   "execution_count": null,
   "id": "6ef911b5",
   "metadata": {},
   "outputs": [],
   "source": []
  },
  {
   "cell_type": "code",
   "execution_count": null,
   "id": "f48f6578",
   "metadata": {},
   "outputs": [],
   "source": []
  }
 ],
 "metadata": {
  "kernelspec": {
   "display_name": "Python 3",
   "language": "python",
   "name": "python3"
  },
  "language_info": {
   "codemirror_mode": {
    "name": "ipython",
    "version": 3
   },
   "file_extension": ".py",
   "mimetype": "text/x-python",
   "name": "python",
   "nbconvert_exporter": "python",
   "pygments_lexer": "ipython3",
   "version": "3.8.8"
  }
 },
 "nbformat": 4,
 "nbformat_minor": 5
}
